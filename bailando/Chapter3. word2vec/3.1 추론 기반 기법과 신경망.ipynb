{
 "cells": [
  {
   "attachments": {},
   "cell_type": "markdown",
   "metadata": {},
   "source": [
    "## 3.1 추론 기반 기법과 신경망\n",
    "단어를 벡터로 표현하는 방법은 크게 '통계 기반 기법'과 '추론 기반 기법'이 있다. 의미를 얻는 방식은 서로 크게 다르지만, 그 배경에는 분포가설이 있다.\n",
    "\n",
    "### 3.1.1 통계 기반 기법의 문제점\n",
    "통계기반기법은 단어의 동시발생 행렬을 만들고 그 행렬에 SVD(특잇값 분해)를 적용해 밀집벡터를 얻었다.  \n",
    "그렇지만 이 방식은 대규모 말뭉치를 다룰 때 문제가 발생한다. 어휘가 100만개라면 100만*100만의 행렬에 [SVD](https://angeloyeo.github.io/2019/08/01/SVD.html)를 적용해야 하는데, n\\*n의 계산비용은 $O(n^3)$이다.\n",
    "\n",
    "### 3.1.2. 추론 기반 기법 개요\n",
    "추론 기반 기법은 당연히 '추론'이 주된 작업이다. 아래 그림처럼 주변 단어가 주어졌을 때 '?'에 무슨 단어가 들어가는지를 추측하는 작업이다.\n",
    "![](https://github.com/yesinkim/Deep-Learning-From-Scratch2/blob/main/deep_learning_2_images/fig%203-2.png?raw=true)  \n",
    "이러한 추론 문제를 반복해서 풀면서 단어의 출현 패턴을 학습하는 것이다.\n",
    "\n",
    "추론기반기법에서는 어떠한 모델이 등장하는데, 이 모델로 신경망을 사용할 것이다.\n",
    "\n",
    "### 3.1.3 신경망에서의 단어처리\n",
    "신경망을 이용해 '단어'를 처리한다. 단어를 그대로 처리할 수 없으니 고정길이의 벡터인 원핫표현으로 변환한다.\n",
    "따라서 총 어휘 수 만큼의 원소를 갖는 벡터를 준비하고, 인덱스가 단어 ID와 같은 원소를 1로, 나머지는 0으로 설정한다.\n",
    "![](https://github.com/yesinkim/Deep-Learning-From-Scratch2/blob/main/deep_learning_2_images/fig%203-5.png?raw=true)\n",
    "\n",
    "![](https://github.com/yesinkim/Deep-Learning-From-Scratch2/blob/main/deep_learning_2_images/fig%203-6.png?raw=true)  \n",
    "완전 계층에 의한 변환: 입력층의 각 뉴런은 7개의 단어 각각에 대응(은닉층 뉴런은 3개)\n",
    "\n",
    "완전연결계층에 의한 변환은 파이썬으로 다음과 같이 작성할 수 있다."
   ]
  },
  {
   "cell_type": "code",
   "execution_count": 1,
   "metadata": {},
   "outputs": [
    {
     "name": "stdout",
     "output_type": "stream",
     "text": [
      "[[-0.00451681 -0.14811647 -0.1415103 ]]\n"
     ]
    }
   ],
   "source": [
    "import numpy as np\n",
    "\n",
    "c = np.array([[1, 0, 0, 0, 0, 0, 0]])   # 입력\n",
    "W = np.random.randn(7, 3)               # 가중치\n",
    "h = np.matmul(c, W)                     # 중간 노드\n",
    "print(h)"
   ]
  },
  {
   "cell_type": "code",
   "execution_count": 2,
   "metadata": {},
   "outputs": [
    {
     "data": {
      "text/plain": [
       "array([[-0.00451681, -0.14811647, -0.1415103 ],\n",
       "       [-0.61190463,  0.81887391,  0.18460785],\n",
       "       [ 1.67094574,  0.93669359, -1.02195061],\n",
       "       [-0.91966896, -0.90614523,  1.24577705],\n",
       "       [-1.90944386,  0.48653443, -0.35423597],\n",
       "       [-3.80064972,  0.71340245, -1.13108254],\n",
       "       [-0.71483301,  0.44261068,  0.18541838]])"
      ]
     },
     "execution_count": 2,
     "metadata": {},
     "output_type": "execute_result"
    }
   ],
   "source": [
    "W"
   ]
  },
  {
   "attachments": {},
   "cell_type": "markdown",
   "metadata": {},
   "source": [
    "![](https://github.com/yesinkim/Deep-Learning-From-Scratch2/blob/main/deep_learning_2_images/fig%203-8.png?raw=true0)"
   ]
  },
  {
   "cell_type": "code",
   "execution_count": 3,
   "metadata": {},
   "outputs": [],
   "source": [
    "# MatMul\n",
    "class MatMul:\n",
    "    def __init__(self, W):\n",
    "        self.params = [W]\n",
    "        self.grads = [np.zeros_like(W)]\n",
    "        self.x = None\n",
    "\n",
    "    def forward(self, x):\n",
    "        W, = self.params\n",
    "        out = np.matmul(x, W)\n",
    "        self.x = x\n",
    "        return out\n",
    "\n",
    "    def backward(self, dout):\n",
    "        W, = self.params\n",
    "        dx = np.matmul(dout, W.T)\n",
    "        dW = np.matmul(self.x.T, dout)\n",
    "        self.grads[0][...] = dW     # grads[0]처럼 쓰면 얕은 복사, grads[0][...]처럼 쓰면 깊은 복사가 이루어진다.\n",
    "        return dx"
   ]
  },
  {
   "cell_type": "code",
   "execution_count": 4,
   "metadata": {},
   "outputs": [
    {
     "name": "stdout",
     "output_type": "stream",
     "text": [
      "[[-0.35521846  1.14171451 -0.45773268]]\n"
     ]
    }
   ],
   "source": [
    "import numpy as np\n",
    "\n",
    "c = np.array([[1, 0, 0, 0, 0, 0, 0]])   # 입력\n",
    "W = np.random.randn(7, 3)               # 가중치\n",
    "layer = MatMul(W)\n",
    "h = layer.forward(c)\n",
    "print(h)"
   ]
  },
  {
   "cell_type": "code",
   "execution_count": null,
   "metadata": {},
   "outputs": [],
   "source": []
  }
 ],
 "metadata": {
  "kernelspec": {
   "display_name": "estud",
   "language": "python",
   "name": "python3"
  },
  "language_info": {
   "codemirror_mode": {
    "name": "ipython",
    "version": 3
   },
   "file_extension": ".py",
   "mimetype": "text/x-python",
   "name": "python",
   "nbconvert_exporter": "python",
   "pygments_lexer": "ipython3",
   "version": "3.8.13 (default, Mar 28 2022, 06:13:39) \n[Clang 12.0.0 ]"
  },
  "orig_nbformat": 4,
  "vscode": {
   "interpreter": {
    "hash": "391b1e7ce2e81530d6fa13507e2cf4fd1c09c0aaf5e54d082942efacf0dd49e1"
   }
  }
 },
 "nbformat": 4,
 "nbformat_minor": 2
}
