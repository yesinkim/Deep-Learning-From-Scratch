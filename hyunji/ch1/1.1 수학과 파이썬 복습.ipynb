{
 "cells": [
  {
   "cell_type": "markdown",
   "metadata": {},
   "source": [
    "## 1.1 수학과 파이썬 복습"
   ]
  },
  {
   "cell_type": "markdown",
   "metadata": {},
   "source": [
    "### 1.1.1 `백터`와 `행렬`(`텐서`)\n",
    "#### 벡터\n",
    "- 벡터는 크기와 방향을 가진 양\n",
    "- 벡터는 숫자가 일렬로 늘어선 집합으로 표현 가능 \n",
    "- 파이썬에서 벡터는 1차원 배열로 취급 \n",
    "    - 열 벡터: 숫자를 세로로 나열\n",
    "    - 행 벡터: 숫자를 가로로 나열\n",
    "\n",
    "#### 행렬\n",
    "- 2차원 형태(사각형 형상)의 배열\n",
    "- 가로줄을 `행`, 세로줄을 `열`\n",
    "- `n행 m열`\n"
   ]
  },
  {
   "cell_type": "markdown",
   "metadata": {},
   "source": [
    "\n",
    "#### 벡터와 행렬은 np.array() 메서드로 생성\n",
    "    - 다차원 배열 클래스인 np.array 클래스를 생성한다. \n",
    "    - shape은 다차원 배열의 형상을, ndim은 차원 수를 담고 있다."
   ]
  },
  {
   "cell_type": "code",
   "execution_count": 2,
   "metadata": {},
   "outputs": [
    {
     "data": {
      "text/plain": [
       "numpy.ndarray"
      ]
     },
     "execution_count": 2,
     "metadata": {},
     "output_type": "execute_result"
    }
   ],
   "source": [
    "import numpy as np\n",
    "\n",
    "x = np.array([1, 2, 3])\n",
    "x.__class__"
   ]
  },
  {
   "cell_type": "code",
   "execution_count": 3,
   "metadata": {},
   "outputs": [
    {
     "data": {
      "text/plain": [
       "(3,)"
      ]
     },
     "execution_count": 3,
     "metadata": {},
     "output_type": "execute_result"
    }
   ],
   "source": [
    "x.shape"
   ]
  },
  {
   "cell_type": "code",
   "execution_count": 4,
   "metadata": {},
   "outputs": [
    {
     "data": {
      "text/plain": [
       "1"
      ]
     },
     "execution_count": 4,
     "metadata": {},
     "output_type": "execute_result"
    }
   ],
   "source": [
    "x.ndim"
   ]
  },
  {
   "cell_type": "code",
   "execution_count": 5,
   "metadata": {},
   "outputs": [
    {
     "data": {
      "text/plain": [
       "(2, 3)"
      ]
     },
     "execution_count": 5,
     "metadata": {},
     "output_type": "execute_result"
    }
   ],
   "source": [
    "W = np.array([[1, 2, 3], [4, 5, 6]])\n",
    "W.shape"
   ]
  },
  {
   "cell_type": "code",
   "execution_count": 6,
   "metadata": {},
   "outputs": [
    {
     "data": {
      "text/plain": [
       "2"
      ]
     },
     "execution_count": 6,
     "metadata": {},
     "output_type": "execute_result"
    }
   ],
   "source": [
    "W.ndim"
   ]
  },
  {
   "cell_type": "markdown",
   "metadata": {},
   "source": [
    "### 1.1.2 행렬의 원소별 변환\n",
    "- 넘파이 배열의 원소별 연산\n",
    "- 피연산자인 다차원 배열들에서 서로 대응하는 원소끼리 (각 원소가 독립적으로) 연산이 이뤄진다."
   ]
  },
  {
   "cell_type": "code",
   "execution_count": 7,
   "metadata": {},
   "outputs": [
    {
     "data": {
      "text/plain": [
       "array([[ 1,  3,  5],\n",
       "       [ 7,  9, 11]])"
      ]
     },
     "execution_count": 7,
     "metadata": {},
     "output_type": "execute_result"
    }
   ],
   "source": [
    "W = np.array([[1, 2, 3], [4, 5, 6]])\n",
    "X = np.array([[0, 1, 2], [3, 4, 5]])\n",
    "W + X"
   ]
  },
  {
   "cell_type": "code",
   "execution_count": 8,
   "metadata": {},
   "outputs": [
    {
     "data": {
      "text/plain": [
       "array([[ 0,  2,  6],\n",
       "       [12, 20, 30]])"
      ]
     },
     "execution_count": 8,
     "metadata": {},
     "output_type": "execute_result"
    }
   ],
   "source": [
    "W * X"
   ]
  },
  {
   "cell_type": "markdown",
   "metadata": {},
   "source": [
    "### 1.1.3 브로드캐스트\n",
    "- 넘파이의 다차원 배열에서는 형상이 다른 배열끼리도 연산 가능"
   ]
  },
  {
   "cell_type": "code",
   "execution_count": 9,
   "metadata": {},
   "outputs": [
    {
     "data": {
      "text/plain": [
       "array([[10, 20],\n",
       "       [30, 40]])"
      ]
     },
     "execution_count": 9,
     "metadata": {},
     "output_type": "execute_result"
    }
   ],
   "source": [
    "# 2 X 2 행렬 A에 10이라는 스칼라 값을 곱하는 경우\n",
    "# 스칼라값 10이 2 X 2 행렬로 확장된 후, 원소별 연산을 수행한다.\n",
    "A = np.array([[1, 2], [3, 4]])\n",
    "A * 10"
   ]
  },
  {
   "cell_type": "code",
   "execution_count": 10,
   "metadata": {},
   "outputs": [
    {
     "data": {
      "text/plain": [
       "array([[10, 40],\n",
       "       [30, 80]])"
      ]
     },
     "execution_count": 10,
     "metadata": {},
     "output_type": "execute_result"
    }
   ],
   "source": [
    "# 1차원 배열인 b가 2차원 배열 A와 형상이 같아지도록 확장\n",
    "A = np.array([[1, 2], [3, 4]])\n",
    "b = np.array([10, 20])\n",
    "A * b"
   ]
  },
  {
   "cell_type": "markdown",
   "metadata": {},
   "source": [
    "### 1.1.4 벡터의 내적과 행렬의 곱\n",
    "#### 벡터의 내적\n",
    "- 벡터의 내적은 직관적으로 두 벡터가 얼마나 같은 방향을 향하고 있는가를 나타낸다. \n",
    "    - 벡터의 길이가 1인 경우로 한정하면, 완전히 같은 방향을 향하는 두 벡터의 내적은 1이 된다. \n",
    "    - 반대로 반대 방향을 향하는 두 벡터의 내적은 -1 \n",
    "    \n",
    "- e.g. $x*y = x_1y_1 + x_2y_2 + ... + x_ny_n$\n",
    "    - 예시처럼, 2개의 벡터가 있을 때, 두 벡터에서 대응하는 원소들의 곱을 모두 더한 것.\n",
    "\n",
    "- 벡터의 내적과 행렬 곱 모두에 `np.dot()`을 사용할 수 있다.\n",
    "    - `np.dot(x, y)`의 인수가 모두 1차원 배열이면 벡터의 내적을 계산하고, 2차원 배열이면 행렬의 곱을 계산한다.\n",
    "    "
   ]
  },
  {
   "cell_type": "code",
   "execution_count": 11,
   "metadata": {},
   "outputs": [
    {
     "data": {
      "text/plain": [
       "32"
      ]
     },
     "execution_count": 11,
     "metadata": {},
     "output_type": "execute_result"
    }
   ],
   "source": [
    "# 벡터의 내적\n",
    "a = np.array([1, 2, 3])\n",
    "b = np.array([4, 5, 6])\n",
    "np.dot(a, b)\n"
   ]
  },
  {
   "cell_type": "code",
   "execution_count": 12,
   "metadata": {},
   "outputs": [
    {
     "name": "stdout",
     "output_type": "stream",
     "text": [
      "np.matmul: \n",
      " [[19 22]\n",
      " [43 50]]\n",
      "\n",
      "np.dot: \n",
      " [[19 22]\n",
      " [43 50]]\n"
     ]
    }
   ],
   "source": [
    "# 벡터의 곱\n",
    "A = np.array([[1, 2], [3, 4]])\n",
    "B = np.array([[5, 6], [7, 8]])\n",
    "print(\"np.matmul: \\n\", np.matmul(A, B))\n",
    "print()\n",
    "print(\"np.dot: \\n\", np.dot(A, B))"
   ]
  },
  {
   "cell_type": "markdown",
   "metadata": {},
   "source": [
    "### 1.1.5 행렬 형상 확인\n",
    "- 행렬 A, B의 곱을 하는 경우, 형상(shape) 확인이 중요\n",
    "    - 이 때, 행렬 A가 `a x b` 차원이라면,\n",
    "    - 행렬 B는 `b x c` 차원이어야 한다.\n",
    "    - 그럼 A와 B의 행렬 곱 결과인 행렬 C는 `a x c` 가 된다."
   ]
  },
  {
   "cell_type": "code",
   "execution_count": null,
   "metadata": {},
   "outputs": [],
   "source": []
  }
 ],
 "metadata": {
  "kernelspec": {
   "display_name": "Python 3.10.7 64-bit",
   "language": "python",
   "name": "python3"
  },
  "language_info": {
   "codemirror_mode": {
    "name": "ipython",
    "version": 3
   },
   "file_extension": ".py",
   "mimetype": "text/x-python",
   "name": "python",
   "nbconvert_exporter": "python",
   "pygments_lexer": "ipython3",
   "version": "3.10.7"
  },
  "orig_nbformat": 4,
  "vscode": {
   "interpreter": {
    "hash": "b0fa6594d8f4cbf19f97940f81e996739fb7646882a419484c72d19e05852a7e"
   }
  }
 },
 "nbformat": 4,
 "nbformat_minor": 2
}
